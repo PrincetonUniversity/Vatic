{
 "cells": [
  {
   "cell_type": "code",
   "execution_count": 42,
   "id": "2ec38c6b",
   "metadata": {},
   "outputs": [],
   "source": [
    "import numpy as np\n",
    "import gurobipy as gp\n",
    "from gurobipy import GRB\n",
    "from gurobipy import *\n",
    "import scipy.sparse as sp\n",
    "import os\n",
    "import json"
   ]
  },
  {
   "cell_type": "code",
   "execution_count": 2,
   "id": "05964448",
   "metadata": {},
   "outputs": [],
   "source": [
    "os.chdir('/Users/jf3375/PycharmProjects/Vatic_Local/Vatic/vatic_test/output/gurobi_output')"
   ]
  },
  {
   "cell_type": "markdown",
   "id": "859df66e",
   "metadata": {},
   "source": [
    "## Use Numpy Array to Build Gurobi Models\n",
    "https://www.gurobi.com/documentation/9.5/examples/matrix1_py.html"
   ]
  },
  {
   "cell_type": "code",
   "execution_count": 50,
   "id": "6bfd4ab7",
   "metadata": {},
   "outputs": [
    {
     "name": "stdout",
     "output_type": "stream",
     "text": [
      "Gurobi Optimizer version 9.5.2 build v9.5.2rc0 (mac64[rosetta2])\n",
      "Thread count: 10 physical cores, 10 logical processors, using up to 10 threads\n",
      "Optimize a model with 2 rows, 3 columns and 5 nonzeros\n",
      "Model fingerprint: 0x04118249\n",
      "Coefficient statistics:\n",
      "  Matrix range     [1e+00, 3e+00]\n",
      "  Objective range  [1e+00, 2e+00]\n",
      "  Bounds range     [0e+00, 0e+00]\n",
      "  RHS range        [1e+00, 4e+00]\n",
      "Presolve removed 2 rows and 3 columns\n",
      "Presolve time: 0.01s\n",
      "Presolve: All rows and columns removed\n",
      "Iteration    Objective       Primal Inf.    Dual Inf.      Time\n",
      "       0    4.0000000e+00   0.000000e+00   0.000000e+00      0s\n",
      "\n",
      "Solved in 0 iterations and 0.01 seconds (0.00 work units)\n",
      "Optimal objective  4.000000000e+00\n",
      "[4. 0. 0.]\n",
      "Obj: 4\n"
     ]
    }
   ],
   "source": [
    "#create and output log file: need to put very beginning to record all inputs\n",
    "m.setParam('LogFile', 'matrix.log')\n",
    "\n",
    "# Create a new model\n",
    "m = gp.Model(\"matrix1\")\n",
    "\n",
    "\n",
    "# Create variables\n",
    "x = m.addMVar(shape=3, name=\"x\")\n",
    "\n",
    "# Set objective\n",
    "obj = np.array([1.0, 1.0, 2.0])\n",
    "m.setObjective(obj @ x, GRB.MAXIMIZE)\n",
    "\n",
    "# Build (sparse) constraint matrix\n",
    "val = np.array([1.0, 2.0, 3.0, -1.0, -1.0])\n",
    "row = np.array([0, 0, 0, 1, 1])\n",
    "col = np.array([0, 1, 2, 0, 1])\n",
    "\n",
    "A = sp.csr_matrix((val, (row, col)), shape=(2, 3))\n",
    "\n",
    "# Build rhs vector\n",
    "rhs = np.array([4.0, -1.0])\n",
    "\n",
    "# Add constraints\n",
    "m.addConstr(A @ x <= rhs, name=\"c\")\n",
    "\n",
    "#save model information before optimize\n",
    "m.write('matrix.lp') #for model browsing\n",
    "m.write('matrix.mps') #for model reuse\n",
    "m.write('matrix.prm') #save parameters\n",
    "\n",
    "# Optimize model\n",
    "m.optimize()\n",
    "\n",
    "#save Solution information in Json File\n",
    "m.write('matrix_sol.json')\n",
    "\n",
    "\n",
    "\n",
    "\n",
    "print(x.X)\n",
    "print('Obj: %g' % m.ObjVal)\n",
    "\n"
   ]
  },
  {
   "cell_type": "markdown",
   "id": "cfcc4d78",
   "metadata": {},
   "source": [
    "## Load Gurobi Model File to Solve and Check Model Components"
   ]
  },
  {
   "cell_type": "markdown",
   "id": "f29498f7",
   "metadata": {},
   "source": [
    "## The lp file also could be directly read to see constraints"
   ]
  },
  {
   "cell_type": "code",
   "execution_count": 48,
   "id": "8e66af20",
   "metadata": {},
   "outputs": [
    {
     "name": "stdout",
     "output_type": "stream",
     "text": [
      "Read MPS format model from file matrix.mps\n",
      "Reading time = 0.00 seconds\n",
      "matrix1: 2 rows, 3 columns, 5 nonzeros\n",
      "Gurobi Optimizer version 9.5.2 build v9.5.2rc0 (mac64[rosetta2])\n",
      "Thread count: 10 physical cores, 10 logical processors, using up to 10 threads\n",
      "Optimize a model with 2 rows, 3 columns and 5 nonzeros\n",
      "Model fingerprint: 0x04118249\n",
      "Coefficient statistics:\n",
      "  Matrix range     [1e+00, 3e+00]\n",
      "  Objective range  [1e+00, 2e+00]\n",
      "  Bounds range     [0e+00, 0e+00]\n",
      "  RHS range        [1e+00, 4e+00]\n",
      "Presolve removed 2 rows and 3 columns\n",
      "Presolve time: 0.01s\n",
      "Presolve: All rows and columns removed\n",
      "Iteration    Objective       Primal Inf.    Dual Inf.      Time\n",
      "       0    4.0000000e+00   0.000000e+00   0.000000e+00      0s\n",
      "\n",
      "Solved in 0 iterations and 0.01 seconds (0.00 work units)\n",
      "Optimal objective  4.000000000e+00\n"
     ]
    }
   ],
   "source": [
    "model = read('matrix.mps')\n",
    "model.optimize()"
   ]
  },
  {
   "cell_type": "code",
   "execution_count": 20,
   "id": "85b47d37",
   "metadata": {},
   "outputs": [
    {
     "name": "stdout",
     "output_type": "stream",
     "text": [
      "Maximize\n",
      "  <gurobi.LinExpr: x[0] + x[1] + 2.0 x[2]>\n",
      "Subject To\n",
      "  c[0]: <gurobi.LinExpr: x[0] + 2.0 x[1] + 3.0 x[2]> <= 4\n",
      "  c[1]: <gurobi.LinExpr: -1.0 x[0] + -1.0 x[1]> <= -1\n",
      "None\n"
     ]
    }
   ],
   "source": [
    "print(model.display())"
   ]
  },
  {
   "cell_type": "code",
   "execution_count": 15,
   "id": "4d9b23fb",
   "metadata": {},
   "outputs": [
    {
     "name": "stdout",
     "output_type": "stream",
     "text": [
      "4.0\n",
      "<gurobi.LinExpr: x[0] + x[1] + 2.0 x[2]>\n"
     ]
    }
   ],
   "source": [
    "obj = model.getObjective()\n",
    "print(obj.getValue())\n",
    "print(obj)"
   ]
  },
  {
   "cell_type": "code",
   "execution_count": 16,
   "id": "79183506",
   "metadata": {},
   "outputs": [
    {
     "data": {
      "text/plain": [
       "[<gurobi.Var x[0] (value 4.0)>,\n",
       " <gurobi.Var x[1] (value 0.0)>,\n",
       " <gurobi.Var x[2] (value 0.0)>]"
      ]
     },
     "execution_count": 16,
     "metadata": {},
     "output_type": "execute_result"
    }
   ],
   "source": [
    "model.getVars()"
   ]
  },
  {
   "cell_type": "code",
   "execution_count": 7,
   "id": "22b28002",
   "metadata": {},
   "outputs": [
    {
     "name": "stdout",
     "output_type": "stream",
     "text": [
      "x[0] 4.0\n",
      "x[1] 0.0\n",
      "x[2] 0.0\n"
     ]
    }
   ],
   "source": [
    "for v in model.getVars():\n",
    "    print(v.Varname,v.X)"
   ]
  },
  {
   "cell_type": "code",
   "execution_count": 17,
   "id": "7f8f6a5b",
   "metadata": {},
   "outputs": [
    {
     "data": {
      "text/plain": [
       "[<gurobi.Constr c[0]>, <gurobi.Constr c[1]>]"
      ]
     },
     "execution_count": 17,
     "metadata": {},
     "output_type": "execute_result"
    }
   ],
   "source": [
    "#name c[0], name c[1]\n",
    "model.getConstrs()"
   ]
  },
  {
   "cell_type": "code",
   "execution_count": 18,
   "id": "d5a7bfa0",
   "metadata": {},
   "outputs": [
    {
     "name": "stdout",
     "output_type": "stream",
     "text": [
      "\n",
      "    Variable            x \n",
      "-------------------------\n",
      "        x[0]            4 \n"
     ]
    }
   ],
   "source": [
    "#only print nonzero solutions\n",
    "model.printAttr('x')"
   ]
  },
  {
   "cell_type": "code",
   "execution_count": 41,
   "id": "6ea14ce2",
   "metadata": {},
   "outputs": [
    {
     "name": "stdout",
     "output_type": "stream",
     "text": [
      "c[0]\n",
      "x[0]\n",
      "1.0\n",
      "x[1]\n",
      "2.0\n",
      "x[2]\n",
      "3.0\n",
      "----\n",
      "c[1]\n",
      "x[0]\n",
      "-1.0\n",
      "x[1]\n",
      "-1.0\n",
      "x[2]\n",
      "0.0\n",
      "----\n"
     ]
    }
   ],
   "source": [
    "#just linear constraints\n",
    "#other constraints similar function\n",
    "for cnstr in model.getConstrs():\n",
    "    print(cnstr.ConstrName)\n",
    "    for var in model.getVars():\n",
    "        print(var.Varname)\n",
    "        print(model.getCoeff(cnstr, var))\n",
    "    print('----')"
   ]
  },
  {
   "cell_type": "markdown",
   "id": "8fde80c1",
   "metadata": {},
   "source": [
    "## Load Json File to See Sol Information without Solve"
   ]
  },
  {
   "cell_type": "code",
   "execution_count": 46,
   "id": "d87d4a17",
   "metadata": {},
   "outputs": [
    {
     "name": "stdout",
     "output_type": "stream",
     "text": [
      "{'SolutionInfo': {'Status': 2, 'Runtime': 0.00764012336730957, 'Work': 2.5094666666666673e-06, 'ObjVal': 4, 'BoundVio': 0, 'ConstrVio': 0, 'IterCount': 0, 'BarIterCount': 0}, 'Vars': [{'VarName': 'x[0]', 'X': 4}]}\n"
     ]
    }
   ],
   "source": [
    "f = open('matrix_sol.json')\n",
    "sol = json.load(f)\n",
    "print(sol)\n",
    "f.close()"
   ]
  },
  {
   "cell_type": "markdown",
   "id": "7b411293",
   "metadata": {},
   "source": [
    "## Gurobi Log File\n",
    "Directly read it from output path"
   ]
  },
  {
   "cell_type": "markdown",
   "id": "b4cb3722",
   "metadata": {},
   "source": [
    "## Gurobi Prm File: save parameters"
   ]
  },
  {
   "cell_type": "code",
   "execution_count": null,
   "id": "c35380e4",
   "metadata": {},
   "outputs": [],
   "source": []
  }
 ],
 "metadata": {
  "kernelspec": {
   "display_name": "vaticenv",
   "language": "python",
   "name": "vaticenv"
  },
  "language_info": {
   "codemirror_mode": {
    "name": "ipython",
    "version": 3
   },
   "file_extension": ".py",
   "mimetype": "text/x-python",
   "name": "python",
   "nbconvert_exporter": "python",
   "pygments_lexer": "ipython3",
   "version": "3.8.13"
  }
 },
 "nbformat": 4,
 "nbformat_minor": 5
}
